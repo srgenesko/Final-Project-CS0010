{
 "cells": [
  {
   "cell_type": "markdown",
   "metadata": {},
   "source": [
    "# The Best Neighborhood\n",
    "\n",
    "Safety was how we chose to rank the \"best-ness\" of the neighborhoods. The overall best neighborhood based on all three data sets is New Homestead. New Homestead has the lowest amount of fire incidents, and is one of the lowest on both police incidents and arrests. Our metric was looking at the safety in all of the neighorhoods using the submetrics: police incidents, arrests, and fire incidents. Although this wasn't the lowest on both the police arrests and incidents, it is a common denominator between all three data sets.  "
   ]
  },
  {
   "cell_type": "markdown",
   "metadata": {},
   "source": [
    "### Explaining Our Code\n",
    "\n",
    "First we imported pandas and matplotlib.pyplot\n",
    "\n",
    "Read in the csv files\n",
    "\n",
    "Group our metrics\n",
    "\n",
    "Sum up the numerical metrics\n",
    "\n",
    "Make the bar graph\n",
    "\n",
    "Change fontsize and add labels"
   ]
  }
 ],
 "metadata": {
  "kernelspec": {
   "display_name": "Python 3",
   "language": "python",
   "name": "python3"
  },
  "language_info": {
   "codemirror_mode": {
    "name": "ipython",
    "version": 3
   },
   "file_extension": ".py",
   "mimetype": "text/x-python",
   "name": "python",
   "nbconvert_exporter": "python",
   "pygments_lexer": "ipython3",
   "version": "3.8.3"
  }
 },
 "nbformat": 4,
 "nbformat_minor": 4
}
