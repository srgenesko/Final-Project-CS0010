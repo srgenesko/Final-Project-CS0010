{
 "cells": [
  {
   "cell_type": "code",
   "execution_count": 25,
   "metadata": {},
   "outputs": [
    {
     "data": {
      "text/html": [
       "<div>\n",
       "<style scoped>\n",
       "    .dataframe tbody tr th:only-of-type {\n",
       "        vertical-align: middle;\n",
       "    }\n",
       "\n",
       "    .dataframe tbody tr th {\n",
       "        vertical-align: top;\n",
       "    }\n",
       "\n",
       "    .dataframe thead th {\n",
       "        text-align: right;\n",
       "    }\n",
       "</style>\n",
       "<table border=\"1\" class=\"dataframe\">\n",
       "  <thead>\n",
       "    <tr style=\"text-align: right;\">\n",
       "      <th></th>\n",
       "      <th>address</th>\n",
       "      <th>alarms</th>\n",
       "    </tr>\n",
       "  </thead>\n",
       "  <tbody>\n",
       "    <tr>\n",
       "      <th>2</th>\n",
       "      <td>SB STATE HWY 28 SB AT 31S, PITTSBURGH PA 15212</td>\n",
       "      <td>0</td>\n",
       "    </tr>\n",
       "    <tr>\n",
       "      <th>3</th>\n",
       "      <td>1700 BLOCK BELLEAU DR, PITTSBURGH PA 15212</td>\n",
       "      <td>0</td>\n",
       "    </tr>\n",
       "    <tr>\n",
       "      <th>4</th>\n",
       "      <td>2400 BLOCK VILLAGE RD, PITTSBURGH PA 15205</td>\n",
       "      <td>1</td>\n",
       "    </tr>\n",
       "    <tr>\n",
       "      <th>5</th>\n",
       "      <td>S 7TH ST &amp; E CARSON ST, PITTSBURGH PA 15203</td>\n",
       "      <td>0</td>\n",
       "    </tr>\n",
       "    <tr>\n",
       "      <th>6</th>\n",
       "      <td>200 BLOCK E OHIO ST, PITTSBURGH PA 15212</td>\n",
       "      <td>1</td>\n",
       "    </tr>\n",
       "  </tbody>\n",
       "</table>\n",
       "</div>"
      ],
      "text/plain": [
       "                                          address  alarms\n",
       "2  SB STATE HWY 28 SB AT 31S, PITTSBURGH PA 15212       0\n",
       "3      1700 BLOCK BELLEAU DR, PITTSBURGH PA 15212       0\n",
       "4      2400 BLOCK VILLAGE RD, PITTSBURGH PA 15205       1\n",
       "5     S 7TH ST & E CARSON ST, PITTSBURGH PA 15203       0\n",
       "6        200 BLOCK E OHIO ST, PITTSBURGH PA 15212       1"
      ]
     },
     "execution_count": 25,
     "metadata": {},
     "output_type": "execute_result"
    }
   ],
   "source": [
    "import pandas as fpd\n",
    "\n",
    "firepd = fpd.read_csv(\"Fire Incidents.csv\")\n",
    "pitt_qm = firepd[\"address\"].str.contains('PITTSBURGH', regex=False)\n",
    "only_pitt = firepd[pitt_qm]\n",
    "only_pitt[[\"address\", \"alarms\"]].head()\n",
    "\n",
    "\n"
   ]
  },
  {
   "cell_type": "code",
   "execution_count": null,
   "metadata": {},
   "outputs": [],
   "source": [
    "chips_qm = chip['item_name'].str.contains('Chips', regex=False)\n",
    "only_chips = chip[chips_qm]\n",
    "only_chips.head(5)"
   ]
  }
 ],
 "metadata": {
  "kernelspec": {
   "display_name": "Python 3",
   "language": "python",
   "name": "python3"
  },
  "language_info": {
   "codemirror_mode": {
    "name": "ipython",
    "version": 3
   },
   "file_extension": ".py",
   "mimetype": "text/x-python",
   "name": "python",
   "nbconvert_exporter": "python",
   "pygments_lexer": "ipython3",
   "version": "3.8.3"
  }
 },
 "nbformat": 4,
 "nbformat_minor": 4
}
