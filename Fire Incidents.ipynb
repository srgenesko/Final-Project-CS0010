{
 "cells": [
  {
   "cell_type": "code",
   "execution_count": null,
   "metadata": {},
   "outputs": [],
   "source": [
    "import pandas as pd\n",
    "import matplotlib.pyplot as plt\n",
    "\n",
    "firepd = pd.read_csv(\"FireAlarmData.csv\")\n",
    "alarmgroup = firepd.groupby('neighborhood')['alarms'].sum()\n",
    "alarmgroup.plot.barh(subplots=True, figsize=(100,200), fontsize=60)\n",
    "plt.title(\"Total Fire Alarms Set Off By Neighborhood\", fontsize=100)"
   ]
  },
  {
   "cell_type": "markdown",
   "metadata": {},
   "source": [
    "## Brandon's Conclusion\n",
    "\n",
    "Based on the data results, I've concluded that Ridgemont is the neighborhood with the lowest risk of catching fire with New Homestead and Mount Oliver Borough coming in second. Compared to the results of the other datasets, these 3 neighborhoods can be considered the safest neighborhoods for long term residency."
   ]
  },
  {
   "cell_type": "code",
   "execution_count": null,
   "metadata": {},
   "outputs": [],
   "source": [
    "alarmgroup.head(60)"
   ]
  },
  {
   "cell_type": "code",
   "execution_count": null,
   "metadata": {},
   "outputs": [],
   "source": []
  }
 ],
 "metadata": {
  "kernelspec": {
   "display_name": "Python 3",
   "language": "python",
   "name": "python3"
  },
  "language_info": {
   "codemirror_mode": {
    "name": "ipython",
    "version": 3
   },
   "file_extension": ".py",
   "mimetype": "text/x-python",
   "name": "python",
   "nbconvert_exporter": "python",
   "pygments_lexer": "ipython3",
   "version": "3.8.3"
  }
 },
 "nbformat": 4,
 "nbformat_minor": 4
}
