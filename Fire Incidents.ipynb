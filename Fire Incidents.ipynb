{
 "cells": [
  {
   "cell_type": "code",
   "execution_count": null,
   "metadata": {},
   "outputs": [
    {
     "ename": "NameError",
     "evalue": "name 'plt' is not defined",
     "output_type": "error",
     "traceback": [
      "\u001b[0;31m---------------------------------------------------------------------------\u001b[0m",
      "\u001b[0;31mNameError\u001b[0m                                 Traceback (most recent call last)",
      "\u001b[0;32m<ipython-input-11-296766f51cac>\u001b[0m in \u001b[0;36m<module>\u001b[0;34m\u001b[0m\n\u001b[1;32m      4\u001b[0m \u001b[0malarmgroup\u001b[0m \u001b[0;34m=\u001b[0m \u001b[0mfirepd\u001b[0m\u001b[0;34m.\u001b[0m\u001b[0mgroupby\u001b[0m\u001b[0;34m(\u001b[0m\u001b[0;34m'neighborhood'\u001b[0m\u001b[0;34m)\u001b[0m\u001b[0;34m[\u001b[0m\u001b[0;34m'alarms'\u001b[0m\u001b[0;34m]\u001b[0m\u001b[0;34m.\u001b[0m\u001b[0msum\u001b[0m\u001b[0;34m(\u001b[0m\u001b[0;34m)\u001b[0m\u001b[0;34m\u001b[0m\u001b[0;34m\u001b[0m\u001b[0m\n\u001b[1;32m      5\u001b[0m \u001b[0malarmgroup\u001b[0m\u001b[0;34m.\u001b[0m\u001b[0mplot\u001b[0m\u001b[0;34m.\u001b[0m\u001b[0mbarh\u001b[0m\u001b[0;34m(\u001b[0m\u001b[0msubplots\u001b[0m\u001b[0;34m=\u001b[0m\u001b[0;32mTrue\u001b[0m\u001b[0;34m,\u001b[0m \u001b[0mfigsize\u001b[0m\u001b[0;34m=\u001b[0m\u001b[0;34m(\u001b[0m\u001b[0;36m100\u001b[0m\u001b[0;34m,\u001b[0m\u001b[0;36m200\u001b[0m\u001b[0;34m)\u001b[0m\u001b[0;34m,\u001b[0m \u001b[0mfontsize\u001b[0m\u001b[0;34m=\u001b[0m\u001b[0;36m60\u001b[0m\u001b[0;34m)\u001b[0m\u001b[0;34m\u001b[0m\u001b[0;34m\u001b[0m\u001b[0m\n\u001b[0;32m----> 6\u001b[0;31m \u001b[0mplt\u001b[0m\u001b[0;34m.\u001b[0m\u001b[0mtitle\u001b[0m\u001b[0;34m(\u001b[0m\u001b[0;34m\"Total Fire Alarms Set Off By Neighborhood\"\u001b[0m\u001b[0;34m,\u001b[0m \u001b[0mfontsize\u001b[0m\u001b[0;34m=\u001b[0m\u001b[0;36m100\u001b[0m\u001b[0;34m)\u001b[0m\u001b[0;34m\u001b[0m\u001b[0;34m\u001b[0m\u001b[0m\n\u001b[0m",
      "\u001b[0;31mNameError\u001b[0m: name 'plt' is not defined"
     ]
    }
   ],
   "source": [
    "import pandas as pd\n",
    "\n",
    "firepd = pd.read_csv(\"FireAlarmData.csv\")\n",
    "alarmgroup = firepd.groupby('neighborhood')['alarms'].sum()\n",
    "alarmgroup.plot.barh(subplots=True, figsize=(100,200), fontsize=60)\n",
    "plt.title(\"Total Fire Alarms Set Off By Neighborhood\", fontsize=100)"
   ]
  },
  {
   "cell_type": "markdown",
   "metadata": {},
   "source": [
    "## Brandon's Conclusion\n",
    "\n",
    "Based on the data results, I've concluded that Ridgemont is the neighborhood with the lowest risk of catching fire with New Homestead and Mount Oliver Borough coming in second. Compared to the results of the other datasets, these 3 neighborhoods can be considered the safest neighborhoods for long term residency."
   ]
  },
  {
   "cell_type": "code",
   "execution_count": 9,
   "metadata": {},
   "outputs": [
    {
     "data": {
      "text/plain": [
       "neighborhood\n",
       "Allegheny Center              26\n",
       "Allegheny West                14\n",
       "Allentown                     89\n",
       "Arlington                     29\n",
       "Arlington Heights             10\n",
       "Banksville                    28\n",
       "Bedford Dwellings             36\n",
       "Beechview                     80\n",
       "Beltzhoover                   92\n",
       "Bloomfield                    96\n",
       "Bluff                         85\n",
       "Bon Air                        5\n",
       "Brighton Heights             101\n",
       "Brookline                     99\n",
       "California-Kirkbride          21\n",
       "Carrick                      184\n",
       "Central Business District    178\n",
       "Central Lawrenceville         43\n",
       "Central Northside             86\n",
       "Central Oakland               67\n",
       "Chartiers City                 6\n",
       "Chateau                       10\n",
       "Crafton Heights               55\n",
       "Crawford-Roberts              65\n",
       "Duquesne Heights              28\n",
       "East Allegheny                81\n",
       "East Carnegie                  9\n",
       "East Hills                   103\n",
       "East Liberty                 127\n",
       "Elliott                       34\n",
       "Esplen                        14\n",
       "Fairywood                     12\n",
       "Fineview                      28\n",
       "Friendship                    14\n",
       "Garfield                      75\n",
       "Glen Hazel                    16\n",
       "Greenfield                    58\n",
       "Hays                           5\n",
       "Hazelwood                    116\n",
       "Highland Park                 37\n",
       "Homewood North               119\n",
       "Homewood South               121\n",
       "Homewood West                 30\n",
       "Knoxville                    115\n",
       "Larimer                       78\n",
       "Lincoln Place                 21\n",
       "Lincoln-Lemington-Belmar     132\n",
       "Lower Lawrenceville           31\n",
       "Manchester                    46\n",
       "Marshall-Shadeland            84\n",
       "Middle Hill                   74\n",
       "Morningside                   10\n",
       "Mount Oliver Borough           2\n",
       "Mount Washington             118\n",
       "Mt. Oliver                     6\n",
       "New Homestead                  2\n",
       "North Oakland                 94\n",
       "North Shore                   13\n",
       "Northview Heights             40\n",
       "Oakwood                        9\n",
       "Name: alarms, dtype: int64"
      ]
     },
     "execution_count": 9,
     "metadata": {},
     "output_type": "execute_result"
    }
   ],
   "source": [
    "alarmgroup.head(60)"
   ]
  },
  {
   "cell_type": "code",
   "execution_count": null,
   "metadata": {},
   "outputs": [],
   "source": []
  }
 ],
 "metadata": {
  "kernelspec": {
   "display_name": "Python 3",
   "language": "python",
   "name": "python3"
  },
  "language_info": {
   "codemirror_mode": {
    "name": "ipython",
    "version": 3
   },
   "file_extension": ".py",
   "mimetype": "text/x-python",
   "name": "python",
   "nbconvert_exporter": "python",
   "pygments_lexer": "ipython3",
   "version": "3.8.3"
  }
 },
 "nbformat": 4,
 "nbformat_minor": 4
}
